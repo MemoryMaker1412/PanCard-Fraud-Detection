{
  "nbformat": 4,
  "nbformat_minor": 0,
  "metadata": {
    "colab": {
      "provenance": [],
      "authorship_tag": "ABX9TyMa4L/J3MAreYvuDGmysNG2",
      "include_colab_link": true
    },
    "kernelspec": {
      "name": "python3",
      "display_name": "Python 3"
    },
    "language_info": {
      "name": "python"
    }
  },
  "cells": [
    {
      "cell_type": "markdown",
      "metadata": {
        "id": "view-in-github",
        "colab_type": "text"
      },
      "source": [
        "<a href=\"https://colab.research.google.com/github/MemoryMaker1412/PanCard-Fraud-Detection/blob/main/PanCard_Fraud_Detection.ipynb\" target=\"_parent\"><img src=\"https://colab.research.google.com/assets/colab-badge.svg\" alt=\"Open In Colab\"/></a>"
      ]
    },
    {
      "cell_type": "code",
      "execution_count": 1,
      "metadata": {
        "id": "V6gkR3-O_Qc9"
      },
      "outputs": [],
      "source": [
        "#Adding Import Statements\n",
        "from skimage.metrics import structural_similarity as ssim\n",
        "import imutils\n",
        "import cv2\n",
        "from PIL import Image\n",
        "import requests"
      ]
    },
    {
      "cell_type": "code",
      "source": [
        "#Creating Directories to store Images\n",
        "!mkdir pan_card\n",
        "!mkdir pan_card/image"
      ],
      "metadata": {
        "id": "_xC6uInzEfCN"
      },
      "execution_count": 2,
      "outputs": []
    },
    {
      "cell_type": "code",
      "source": [
        "#Create Variables to Load Images\n",
        "OriginalImg = Image.open(requests.get('https://www.thestatesman.com/wp-content/uploads/2019/07/pan-card.jpg',stream=True).raw)\n",
        "TestImg = Image.open(requests.get('https://assets1.cleartax-cdn.com/s/img/20170526124335/Pan4.png',stream=True).raw)"
      ],
      "metadata": {
        "id": "aKWtTxwlFBDX"
      },
      "execution_count": 4,
      "outputs": []
    },
    {
      "cell_type": "code",
      "source": [
        "#Checking Image Properties\n",
        "print(\"Original Image Format\",OriginalImg.format)\n",
        "print(\"Original Image Size\",OriginalImg.size)\n",
        "print(\"Original Image Mode\",OriginalImg.mode)\n",
        "\n",
        "print(\"Test Image Format\",TestImg.format)\n",
        "print(\"Test Image Size\",TestImg.size)\n",
        "print(\"Test Image Mode\",TestImg.mode)"
      ],
      "metadata": {
        "colab": {
          "base_uri": "https://localhost:8080/"
        },
        "id": "ZKB-flcXGPAD",
        "outputId": "68bf0c2e-3b95-4a81-c7a5-7e44b8f3a8f3"
      },
      "execution_count": 6,
      "outputs": [
        {
          "output_type": "stream",
          "name": "stdout",
          "text": [
            "Original Image Format JPEG\n",
            "Original Image Size (1200, 800)\n",
            "Original Image Mode RGB\n",
            "Test Image Format PNG\n",
            "Test Image Size (282, 179)\n",
            "Test Image Mode RGBA\n"
          ]
        }
      ]
    },
    {
      "cell_type": "code",
      "source": [
        "#Resizing the images\n",
        "Original = OriginalImg.resize((250,160))\n",
        "print(\"Original Image Size\",Original.size)\n",
        "Original.save(\"pan_card/image/Original.png\")\n",
        "Test = TestImg.resize((250,160))\n",
        "print(\"Test Image Size\",Test.size)\n",
        "Test.save(\"pan_card/image/Test.png\")"
      ],
      "metadata": {
        "colab": {
          "base_uri": "https://localhost:8080/"
        },
        "id": "8vDGLqa3G3Ag",
        "outputId": "f34697ea-07b5-4d19-d573-b6f59bcbf712"
      },
      "execution_count": 7,
      "outputs": [
        {
          "output_type": "stream",
          "name": "stdout",
          "text": [
            "Original Image Size (250, 160)\n",
            "Test Image Size (250, 160)\n"
          ]
        }
      ]
    },
    {
      "cell_type": "code",
      "source": [
        "#Loading Images\n",
        "Original = cv2.imread(\"pan_card/image/Original.png\")\n",
        "Test = cv2.imread(\"pan_card/image/Test.png\")"
      ],
      "metadata": {
        "id": "CAKm1Q6_ICr-"
      },
      "execution_count": 8,
      "outputs": []
    },
    {
      "cell_type": "code",
      "source": [
        "#Converting Image to Grayscale\n",
        "Original_gray = cv2.cvtColor(Original, cv2.COLOR_BGR2GRAY)\n",
        "Test_gray = cv2.cvtColor(Test, cv2.COLOR_BGR2GRAY)"
      ],
      "metadata": {
        "id": "kwNWzxHvIHit"
      },
      "execution_count": 9,
      "outputs": []
    },
    {
      "cell_type": "code",
      "source": [
        "#To compute structural similarity\n",
        "(score, diff) = ssim(Original_gray, Test_gray, full=True)\n",
        "diff = (diff * 255).astype(\"uint8\")\n",
        "print(\"SSIM: {}\".format(score))"
      ],
      "metadata": {
        "colab": {
          "base_uri": "https://localhost:8080/"
        },
        "id": "cOoGm8LOIRc3",
        "outputId": "7f080ed7-82b6-4502-a57d-8804c84875b9"
      },
      "execution_count": 10,
      "outputs": [
        {
          "output_type": "stream",
          "name": "stdout",
          "text": [
            "SSIM: 0.31686135690489126\n"
          ]
        }
      ]
    },
    {
      "cell_type": "code",
      "source": [
        "#Find threshold and contours of the image\n",
        "thresh = cv2.threshold(diff, 0, 255,cv2.THRESH_BINARY_INV | cv2.THRESH_OTSU)[1]\n",
        "cnts = cv2.findContours(thresh.copy(), cv2.RETR_EXTERNAL,cv2.CHAIN_APPROX_SIMPLE)\n",
        "cnts = imutils.grab_contours(cnts)"
      ],
      "metadata": {
        "id": "TzH_-F39I09q"
      },
      "execution_count": 11,
      "outputs": []
    },
    {
      "cell_type": "code",
      "source": [
        "#Create a rectange using contours\n",
        "for c in cnts:\n",
        "  (x, y, w, h) = cv2.boundingRect(c)\n",
        "  cv2.rectangle(Original, (x, y), (x + w, y + h), (0, 0, 255), 2)\n",
        "  cv2.rectangle(Test, (x, y), (x + w, y + h), (0, 0, 255), 2)"
      ],
      "metadata": {
        "id": "DopDpPN_JNCl"
      },
      "execution_count": 14,
      "outputs": []
    },
    {
      "cell_type": "markdown",
      "source": [],
      "metadata": {
        "id": "TlJz7rlmEvQ5"
      }
    }
  ]
}